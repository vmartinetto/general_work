{
 "cells": [
  {
   "cell_type": "code",
   "execution_count": 1,
   "metadata": {
    "collapsed": true
   },
   "outputs": [],
   "source": [
    "import numpy as np\n",
    "import matplotlib.pyplot as plt\n",
    "import math"
   ]
  },
  {
   "cell_type": "markdown",
   "source": [
    "line and magnitude"
   ],
   "metadata": {
    "collapsed": false,
    "pycharm": {
     "name": "#%% md\n"
    }
   }
  },
  {
   "cell_type": "code",
   "execution_count": 2,
   "outputs": [],
   "source": [
    "def line2D(theta,theta0,x,ymin,ymax):\n",
    "    if theta[1] == 0:\n",
    "        y = np.linspace(ymin,ymax,len(x))\n",
    "        x = -np.ones(len(x))*theta0/theta[0]\n",
    "    else:\n",
    "        y = - (theta[0]*x+theta0)/theta[1]\n",
    "    return x,y\n",
    "\n",
    "def sigmoid(theta,theta0,x):\n",
    "    # plot a sigmoid based on theta, theta0, and x\n",
    "    y = 1/(1+np.exp(theta*x+theta0))\n",
    "    return y\n",
    "\n",
    "def simp_sigmoid(x):\n",
    "    return 1/(1+np.exp(-x))\n",
    "\n",
    "def magnitude(x):\n",
    "    return np.sqrt(np.sum(x**2))"
   ],
   "metadata": {
    "collapsed": false,
    "pycharm": {
     "name": "#%%\n"
    }
   }
  },
  {
   "cell_type": "markdown",
   "source": [
    "plotting functions"
   ],
   "metadata": {
    "collapsed": false,
    "pycharm": {
     "name": "#%% md\n"
    }
   }
  },
  {
   "cell_type": "code",
   "execution_count": 3,
   "outputs": [],
   "source": [
    "def plot_data(data,labels):\n",
    "    # initialize plot\n",
    "    fig, ax = plt.subplots()\n",
    "\n",
    "    #solve max and min and set limits\n",
    "    xmax = np.max(data[0,:])\n",
    "    xmin = np.min(data[0,:])\n",
    "    ymax = np.max(data[1,:])\n",
    "    ymin = np.min(data[1,:])\n",
    "    ax.set_xlim(xmin-.61*np.abs(xmin),1.61*xmax)\n",
    "    ax.set_ylim(ymin-.61*np.abs(ymin),1.61*ymax)\n",
    "\n",
    "    #set color and marker type for plot\n",
    "    colors = ['b','g','r']\n",
    "    markers = ['v','+','_']\n",
    "\n",
    "    #set spines for bold axes\n",
    "    ax.spines['left'].set_color('black')\n",
    "    ax.yaxis.tick_left()\n",
    "\n",
    "    ax.spines['right'].set_color('none')\n",
    "\n",
    "    ax.spines['bottom'].set_color('black')\n",
    "    ax.xaxis.tick_bottom()\n",
    "\n",
    "    ax.spines['top'].set_color('none')\n",
    "\n",
    "    #set aspect ratio of units equal\n",
    "    ax.set_aspect('equal')\n",
    "\n",
    "    #plot the individual markers\n",
    "    for i,yi in enumerate(labels):\n",
    "        ax.scatter(data[0,i],data[1,i],color=colors[yi],marker=markers[yi])\n",
    "\n",
    "    # set the grid\n",
    "    ax.grid(zorder=-1.0)\n",
    "    ax.set_axisbelow(True)\n",
    "\n",
    "    return ax\n",
    "\n",
    "def plot_sigmoid(theta,theta0,ax):\n",
    "    #plot a sigmoid in 2D across 1D data\n",
    "\n",
    "    # get the max and min of the axes\n",
    "    xmin,xmax = ax.get_xlim()\n",
    "\n",
    "    # calculate the sigmoid\n",
    "    x = np.linspace(xmin,xmax,11)\n",
    "    y = sigmoid(theta,theta0,x)\n",
    "\n",
    "    #set the ymin and max\n",
    "    ymax = np.max(y)\n",
    "    ymin = np.min(y)\n",
    "    print(ymin)\n",
    "    print(ymax)\n",
    "    ax.set_ylim(-1,2)\n",
    "\n",
    "    #plot the sigmoid\n",
    "    ax.plot(x,y)\n",
    "\n",
    "    return ax\n",
    "\n",
    "def plot_decision(theta,theta0,ax):\n",
    "\n",
    "    # make the unit vector in the direction of the weights\n",
    "    unit_theta = theta/magnitude(theta)\n",
    "\n",
    "    #get the max and min of the axes\n",
    "    xmin,xmax = ax.get_xlim()\n",
    "    ymin,ymax = ax.get_ylim()\n",
    "\n",
    "    # plot the boundary\n",
    "    x = np.linspace(xmin,xmax,11)\n",
    "    x,y = line2D(theta,theta0,x,ymin,ymax)\n",
    "    ax.plot(x,y)\n",
    "\n",
    "    # plot the norm to the boundary\n",
    "    normx = [x[5],unit_theta[0]+x[5]]\n",
    "    normy = [y[5],unit_theta[1]+y[5]]\n",
    "    ax.plot(normx,normy)\n",
    "\n",
    "    return ax\n",
    "\n",
    "def full_plot(data,labels,theta,theta0):\n",
    "    #first plot the data\n",
    "    ax = plot_data(data,labels)\n",
    "\n",
    "    #plot the boundary\n",
    "    ax = plot_decision(theta,theta0,ax)\n",
    "\n",
    "    return ax\n",
    "\n",
    "def full_sigmoid_plot(data,labels,theta,theta0):\n",
    "    #first plot the data\n",
    "    ax = plot_data(data,labels)\n",
    "\n",
    "    #plot the boundary\n",
    "    ax = plot_sigmoid(theta,theta0,ax)\n",
    "\n",
    "    return ax"
   ],
   "metadata": {
    "collapsed": false,
    "pycharm": {
     "name": "#%%\n"
    }
   }
  },
  {
   "cell_type": "markdown",
   "source": [
    "basic functions"
   ],
   "metadata": {
    "collapsed": false,
    "pycharm": {
     "name": "#%% md\n"
    }
   }
  },
  {
   "cell_type": "code",
   "execution_count": 4,
   "outputs": [],
   "source": [
    "def score(labels, preds):\n",
    "    # the score returned is the elementwise comparison of two numpy vectors, if\n",
    "    # all the values are predicted correctly the score should be zero\n",
    "    return np.sum(labels!=preds)"
   ],
   "metadata": {
    "collapsed": false,
    "pycharm": {
     "name": "#%%\n"
    }
   }
  },
  {
   "cell_type": "markdown",
   "source": [
    "Linear classifiers"
   ],
   "metadata": {
    "collapsed": false,
    "pycharm": {
     "name": "#%% md\n"
    }
   }
  },
  {
   "cell_type": "code",
   "execution_count": 5,
   "outputs": [],
   "source": [
    "def perceptron(data, labels, epochs,plot=None):\n",
    "    # initialize th and th0 as 0\n",
    "    th = np.zeros(np.size(data,axis=0))\n",
    "    th0 = 0\n",
    "\n",
    "    # start the algorithim\n",
    "    for e in range(epochs):\n",
    "        error = False\n",
    "        for i in range(np.size(data,axis=1)):\n",
    "            if labels[i]*(data[:,i].dot(th)+th0) <= 0:\n",
    "                error = True\n",
    "                th = th + labels[i]*data[:,i]\n",
    "                th0 = th0 + labels[i]\n",
    "                if plot:\n",
    "                    ax = plot(data,labels,th,th0)\n",
    "                    plt.show()\n",
    "                    plt.close()\n",
    "            else:\n",
    "                continue\n",
    "        if error == False:\n",
    "            break\n",
    "    return th,th0"
   ],
   "metadata": {
    "collapsed": false,
    "pycharm": {
     "name": "#%%\n"
    }
   }
  },
  {
   "cell_type": "markdown",
   "source": [
    "Datasets"
   ],
   "metadata": {
    "collapsed": false,
    "pycharm": {
     "name": "#%% md\n"
    }
   }
  },
  {
   "cell_type": "code",
   "execution_count": 6,
   "outputs": [],
   "source": [
    "def simple_1D():\n",
    "    data = np.array([[3,4,1,2,2.5],\n",
    "                     [0,0,0,0,0]])\n",
    "    labels = np.array([1,1,-1,-1,0])\n",
    "    return  data, labels\n",
    "\n",
    "def simple_separable():\n",
    "    data = np.array([[1,1,-1,-1],\n",
    "                     [1,-1,1,-1]])\n",
    "    labels = np.array([1,-1,-1,-1])\n",
    "    return  data, labels\n",
    "\n",
    "def less_simple():\n",
    "    # need to change this example to something simpler\n",
    "    data = np.array([[3,1,2,1,2.5,3,3.5,4],\n",
    "                     [1.5,2,3,3.5,4,3,4,3]])\n",
    "    labels = np.array([-1,-1,-1,-1,1,1,1,1])\n",
    "    return data, labels\n",
    "\n",
    "def extreme():\n",
    "    data = np.array([[4.3,3.5,2,1,2,3,3,4],\n",
    "                     [1.5,2,3,4,3.7,3,3.5,3]])\n",
    "    labels = np.array([-1,-1,-1,-1,1,1,1,1])\n",
    "    return data,labels\n",
    "\n",
    "def not_linear():\n",
    "    data = np.array([[1,1,-1,-1,-.5],\n",
    "                     [1,-1,1,-1,-.5]])\n",
    "    labels = np.array([1,-1,-1,-1,1])\n",
    "    return  data, labels"
   ],
   "metadata": {
    "collapsed": false,
    "pycharm": {
     "name": "#%%\n"
    }
   }
  },
  {
   "cell_type": "markdown",
   "source": [
    "Gradient descent stuff"
   ],
   "metadata": {
    "collapsed": false,
    "pycharm": {
     "name": "#%% md\n"
    }
   }
  },
  {
   "cell_type": "code",
   "execution_count": 132,
   "outputs": [],
   "source": [
    "def NLL(x,y,th,th0):\n",
    "    return y*np.log(simp_sigmoid(th.T.dot(x)+th0))+(1-y)*np.log(simp_sigmoid(th.T.dot(x)+th0))\n",
    "\n",
    "def NLL_obj(x,y,th,th0):\n",
    "    return -np.sum(NLL(x,y,th,th0))\n",
    "\n",
    "def d_NLL_obj_th(x,y,th,th0):\n",
    "    return np.sum(np.multiply(x,(simp_sigmoid(th.T.dot(x)+th0)-y)),axis=1)\n",
    "\n",
    "def d_NLL_obj_th0(x,y,th,th0):\n",
    "    return np.sum(simp_sigmoid(th.T.dot(x)+th0)-y)\n",
    "\n",
    "def d_NLL_obj(x,y,th,th0):\n",
    "    return d_NLL_obj_th(x,y,th,th0), d_NLL_obj_th0(x,y,th,th0)\n",
    "\n",
    "def gd(f, df, th, th0, step_size, max_iter):\n",
    "    prev_th = th\n",
    "    prev_th0 = th0\n",
    "    fs = []; ths = []; th0s = []\n",
    "    for i in range(max_iter):\n",
    "        prev_f = f(prev_th,prev_th0)\n",
    "        prev_thgrad, prev_th0grad = df(prev_th,prev_th0)\n",
    "        fs.append(prev_f); ths.append(prev_th); th0s.append(prev_th0)\n",
    "        if i == max_iter-1:\n",
    "            return prev_th,prev_th0,fs,ths,th0s\n",
    "        prev_th = prev_th - step_size*prev_thgrad\n",
    "        prev_th0 = prev_th0 - step_size*prev_th0grad\n",
    "\n",
    "def NLL_minimize(x,y,step_size):\n",
    "    th = np.zeros(2).T\n",
    "    th0 = 0\n",
    "\n",
    "    def f(th,th0):\n",
    "        return NLL_obj(x,y,th,th0)\n",
    "\n",
    "    def df(th,th0):\n",
    "        return d_NLL_obj(x,y,th,th0)\n",
    "\n",
    "    th, th0, fs, ths, th0s = gd(f,df,th,th0,step_size,1000)\n",
    "    return th,th0,fs,ths,th0s"
   ],
   "metadata": {
    "collapsed": false,
    "pycharm": {
     "name": "#%%\n"
    }
   }
  },
  {
   "cell_type": "code",
   "execution_count": 133,
   "outputs": [
    {
     "data": {
      "text/plain": "<Figure size 432x288 with 1 Axes>",
      "image/png": "[encoded data removed]"
     },
     "metadata": {
      "needs_background": "light"
     },
     "output_type": "display_data"
    }
   ],
   "source": [
    "data, labels = simple_separable()\n",
    "theta = np.array([1,1]).T\n",
    "theta0 = -.5\n",
    "ax = full_plot(data,labels,theta,theta0)\n",
    "plt.savefig('simple_hypothesis.png',bbox_inches='tight',transparent=True,dpi=200)\n",
    "plt.show()"
   ],
   "metadata": {
    "collapsed": false,
    "pycharm": {
     "name": "#%%\n"
    }
   }
  },
  {
   "cell_type": "code",
   "execution_count": 134,
   "outputs": [
    {
     "data": {
      "text/plain": "<Figure size 432x288 with 1 Axes>",
      "image/png": "[encoded data removed]"
     },
     "metadata": {
      "needs_background": "light"
     },
     "output_type": "display_data"
    }
   ],
   "source": [
    "ax = plot_data(data,labels)\n",
    "plt.savefig('simple_data.png',bbox_inches='tight',transparent=True,dpi=200)\n",
    "plt.show()"
   ],
   "metadata": {
    "collapsed": false,
    "pycharm": {
     "name": "#%%\n"
    }
   }
  },
  {
   "cell_type": "code",
   "execution_count": 135,
   "outputs": [
    {
     "data": {
      "text/plain": "<Figure size 432x288 with 1 Axes>",
      "image/png": "[encoded data removed]"
     },
     "metadata": {
      "needs_background": "light"
     },
     "output_type": "display_data"
    }
   ],
   "source": [
    "th,th0 = perceptron(data,labels,10)\n",
    "ax = full_plot(data,labels,th,th0)\n",
    "plt.savefig('simple_perceptron.png',bbox_inches='tight',transparent=True,dpi=200)\n",
    "plt.show()"
   ],
   "metadata": {
    "collapsed": false,
    "pycharm": {
     "name": "#%%\n"
    }
   }
  },
  {
   "cell_type": "code",
   "execution_count": 136,
   "outputs": [
    {
     "name": "stdout",
     "output_type": "stream",
     "text": [
      "0.014485723997466891\n",
      "0.999621909949373\n"
     ]
    },
    {
     "name": "stderr",
     "output_type": "stream",
     "text": [
      "<ipython-input-3-23d320c5f31d>:11: UserWarning: Attempting to set identical bottom == top == 0.0 results in singular transformations; automatically expanding.\n",
      "  ax.set_ylim(ymin-.61*np.abs(ymin),1.61*ymax)\n"
     ]
    },
    {
     "data": {
      "text/plain": "<Figure size 432x288 with 1 Axes>",
      "image/png": "[encoded data removed]"
     },
     "metadata": {
      "needs_background": "light"
     },
     "output_type": "display_data"
    }
   ],
   "source": [
    "data, labels = simple_1D()\n",
    "theta =-2\n",
    "theta0 = 5\n",
    "ax = full_sigmoid_plot(data,labels,theta,theta0)\n",
    "plt.savefig('simple_sigmoid.png',bbox_inches='tight',transparent=True,dpi=200)\n",
    "plt.show()"
   ],
   "metadata": {
    "collapsed": false,
    "pycharm": {
     "name": "#%%\n"
    }
   }
  },
  {
   "cell_type": "code",
   "execution_count": 140,
   "outputs": [],
   "source": [
    "data, labels = extreme()\n",
    "labels = np.array([0,0,0,0,1,1,1,1])\n",
    "th, th0, fs, ths, th0s = NLL_minimize(data,labels,.01)"
   ],
   "metadata": {
    "collapsed": false,
    "pycharm": {
     "name": "#%%\n"
    }
   }
  },
  {
   "cell_type": "code",
   "execution_count": 138,
   "outputs": [
    {
     "data": {
      "text/plain": "<Figure size 432x288 with 1 Axes>",
      "image/png": "[encoded data removed]"
     },
     "metadata": {
      "needs_background": "light"
     },
     "output_type": "display_data"
    }
   ],
   "source": [
    "#for i in range(10):\n",
    "#    ax = full_plot(data,labels,ths[i],th0s[i])\n",
    "#    plt.show()\n",
    "ax = full_plot(data,labels,th,th0)\n",
    "plt.show()"
   ],
   "metadata": {
    "collapsed": false,
    "pycharm": {
     "name": "#%%\n"
    }
   }
  },
  {
   "cell_type": "code",
   "execution_count": 139,
   "outputs": [
    {
     "name": "stdout",
     "output_type": "stream",
     "text": [
      "[ 6 12 20]\n"
     ]
    }
   ],
   "source": [
    "a = np.array([3,4,5])\n",
    "b = np.array([2,3,4])\n",
    "print(a*b)"
   ],
   "metadata": {
    "collapsed": false,
    "pycharm": {
     "name": "#%%\n"
    }
   }
  },
  {
   "cell_type": "code",
   "execution_count": null,
   "outputs": [],
   "source": [],
   "metadata": {
    "collapsed": false,
    "pycharm": {
     "name": "#%%\n"
    }
   }
  }
 ],
 "metadata": {
  "kernelspec": {
   "display_name": "Python 3",
   "language": "python",
   "name": "python3"
  },
  "language_info": {
   "codemirror_mode": {
    "name": "ipython",
    "version": 2
   },
   "file_extension": ".py",
   "mimetype": "text/x-python",
   "name": "python",
   "nbconvert_exporter": "python",
   "pygments_lexer": "ipython2",
   "version": "2.7.6"
  }
 },
 "nbformat": 4,
 "nbformat_minor": 0
}